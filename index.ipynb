{
 "cells": [
  {
   "cell_type": "markdown",
   "metadata": {},
   "source": [
    "### Run the cell below (shift+enter)"
   ]
  },
  {
   "cell_type": "code",
   "execution_count": 1,
   "metadata": {
    "scrolled": true
   },
   "outputs": [],
   "source": [
    "from jupyterthemes import get_themes\n",
    "import jupyterthemes as jt\n",
    "from jupyterthemes.stylefx import set_nb_theme"
   ]
  },
  {
   "cell_type": "markdown",
   "metadata": {},
   "source": [
    "### Uncomment and run cell to select a theme\n",
    "\n",
    "Ovdje ide neki tekst"
   ]
  },
  {
   "cell_type": "code",
   "execution_count": 2,
   "metadata": {},
   "outputs": [],
   "source": [
    "# uncomment and execute line to try a new theme\n",
    "#set_nb_theme('zaba')\n",
    "# set_nb_theme('airtd')\n",
    "# set_nb_theme('airtl')\n",
    "#set_nb_theme('infobip')\n",
    "# set_nb_theme('infobipl')\n",
    "# set_nb_theme('infobipd')\n",
    "#set_nb_theme('chesterish')\n",
    "# set_nb_theme('grade3')\n",
    "# set_nb_theme('oceans16')\n",
    "# set_nb_theme('solarizedl')\n",
    "# set_nb_theme('solarizedd')\n",
    "# set_nb_theme('monokai')"
   ]
  },
  {
   "cell_type": "markdown",
   "metadata": {},
   "source": [
    "### Test it out by writing some code"
   ]
  },
  {
   "cell_type": "code",
   "execution_count": 3,
   "metadata": {},
   "outputs": [
    {
     "name": "stdout",
     "output_type": "stream",
     "text": [
      "i=0, i=1, i=2, i=3, i=4, i=5, i=6, i=7, i=8, i=9, i=10, i=11, i=12, i=13, i=14, i=15, i=16, i=17, i=18, i=19, i=20, i=21, i=22, i=23, i=24, i=25, i=26, i=27, i=28, i=29, i=30, i=31, i=32, i=33, i=34, i=35, i=36, i=37, i=38, i=39, i=40, i=41, i=42, i=43, i=44, i=45, i=46, i=47, i=48, i=49, i=50, i=51, i=52, i=53, i=54, i=55, i=56, i=57, i=58, i=59, i=60, i=61, i=62, i=63, i=64, i=65, i=66, i=67, i=68, i=69, i=70, i=71, i=72, i=73, i=74, i=75, i=76, i=77, i=78, i=79, i=80, i=81, i=82, i=83, i=84, i=85, i=86, i=87, i=88, i=89, i=90, i=91, i=92, i=93, i=94, i=95, i=96, i=97, i=98, i=99, i=100, i=101, i=102, i=103, i=104, i=105, i=106, i=107, i=108, i=109, i=110, i=111, i=112, i=113, i=114, i=115, i=116, i=117, i=118, i=119, i=120, i=121, i=122, i=123, i=124, i=125, i=126, i=127, i=128, i=129, i=130, i=131, i=132, i=133, i=134, i=135, i=136, i=137, i=138, i=139, i=140, i=141, i=142, i=143, i=144, i=145, i=146, i=147, i=148, i=149, i=150, i=151, i=152, i=153, i=154, i=155, i=156, i=157, i=158, i=159, i=160, i=161, i=162, i=163, i=164, i=165, i=166, i=167, i=168, i=169, i=170, i=171, i=172, i=173, i=174, i=175, i=176, i=177, i=178, i=179, i=180, i=181, i=182, i=183, i=184, i=185, i=186, i=187, i=188, i=189, i=190, i=191, i=192, i=193, i=194, i=195, i=196, i=197, i=198, i=199, "
     ]
    }
   ],
   "source": [
    "from typing import *\n",
    "\n",
    "def my_function(max_n: str = 200, msg: str=\"\", it: Iterable[str]=[]):\n",
    "    for i in range(200):\n",
    "        # vidi komentar\n",
    "        print(f\"i={i}\", end=\", \")\n",
    "        \n",
    "my_function()"
   ]
  },
  {
   "cell_type": "code",
   "execution_count": 4,
   "metadata": {},
   "outputs": [
    {
     "ename": "ZeroDivisionError",
     "evalue": "division by zero",
     "output_type": "error",
     "traceback": [
      "\u001b[0;31m---------------------------------------------------------------------------\u001b[0m",
      "\u001b[0;31mZeroDivisionError\u001b[0m                         Traceback (most recent call last)",
      "\u001b[0;32m<ipython-input-4-bc757c3fda29>\u001b[0m in \u001b[0;36m<module>\u001b[0;34m\u001b[0m\n\u001b[0;32m----> 1\u001b[0;31m \u001b[0;36m1\u001b[0m \u001b[0;34m/\u001b[0m \u001b[0;36m0\u001b[0m\u001b[0;34m\u001b[0m\u001b[0;34m\u001b[0m\u001b[0m\n\u001b[0m",
      "\u001b[0;31mZeroDivisionError\u001b[0m: division by zero"
     ]
    }
   ],
   "source": [
    "1 / 0"
   ]
  },
  {
   "cell_type": "code",
   "execution_count": null,
   "metadata": {},
   "outputs": [],
   "source": []
  }
 ],
 "metadata": {
  "kernelspec": {
   "display_name": "Python 3",
   "language": "python",
   "name": "python3"
  },
  "language_info": {
   "codemirror_mode": {
    "name": "ipython",
    "version": 3
   },
   "file_extension": ".py",
   "mimetype": "text/x-python",
   "name": "python",
   "nbconvert_exporter": "python",
   "pygments_lexer": "ipython3",
   "version": "3.7.3"
  }
 },
 "nbformat": 4,
 "nbformat_minor": 1
}
